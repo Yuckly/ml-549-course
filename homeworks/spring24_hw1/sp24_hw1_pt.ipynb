{
  "cells": [
    {
      "cell_type": "markdown",
      "metadata": {
        "id": "NV3yrcgwGUBz"
      },
      "source": [
        "# CS/DS 549 Spring 2023 Programming and Model Training Assignment"
      ]
    },
    {
      "cell_type": "markdown",
      "metadata": {
        "id": "kF4tFlf7GUB1"
      },
      "source": [
        "<a href=\"https://colab.research.google.com/github/BU-Spark/ml-549-course/blob/main/homeworks/spring24_hw1/sp24_hw1_pt.ipynb\" target=\"_blank\"><img src=\"https://colab.research.google.com/assets/colab-badge.png\" alt=\"Open In Colab\"/></a>"
      ]
    },
    {
      "cell_type": "markdown",
      "metadata": {
        "id": "XkNKjQLNGUB1"
      },
      "source": [
        "## Introduction"
      ]
    },
    {
      "cell_type": "markdown",
      "metadata": {
        "id": "cwz6wKr8GUB1"
      },
      "source": [
        "The goal of this assignment is to train an image classifier on the CIFAR10\n",
        "dataset. CIFAR10 is a \"toy\" dataset in that it only has 10 classes and image\n",
        "resolution of 32x32x3. There are 50K training images and 10K test images.\n",
        "\n",
        "Your task is to define a _neural network model_ and _training\n",
        "hyperparameters_ to reach a __minimum validation accuracy\n",
        "of 60%__.\n",
        "\n",
        "The code below is fully functional albeit a simple model with basic hyperparameters.\n",
        "Update the model and hyperparameters to get the validation accuracy above the\n",
        "minimum.\n",
        "\n",
        "The parts of the code you need to change are indicated by the delimiters:\n",
        "\n",
        "```python\n",
        "### BEGIN SOLUTION\n",
        "<your code>\n",
        "### END SOLUTION\n",
        "```\n",
        "\n",
        "Aspects you may want to experiment with are:\n",
        "1. Deeper and more complex models.\n",
        "2. Different training optimizers.\n",
        "3. Hyperparameters like batch_size and epochs.\n",
        "\n",
        "If you really want get more sophisticated, but not necessary, you can attempt\n",
        "1. pre-training on a larger dataset and transfer learning\n",
        "2. additional input image augmentations.\n",
        "\n",
        "The following are **prohibited**, however:\n",
        "1. Loading a predefined model.\n",
        "2. Using a pre-trained model.\n",
        "\n",
        "You can run this notebook locally on your computer, on SCC or on Google Colab,\n",
        "with the proper setup."
      ]
    },
    {
      "cell_type": "code",
      "execution_count": null,
      "metadata": {
        "id": "AN5kBBBfGUB2"
      },
      "outputs": [],
      "source": [
        "# The pip install command below is ensure install in Google Colab"
      ]
    },
    {
      "cell_type": "code",
      "execution_count": 2,
      "metadata": {
        "colab": {
          "base_uri": "https://localhost:8080/"
        },
        "id": "NoOv6dlmGUB3",
        "outputId": "8e41cc0f-53ab-4176-8f77-5c091ace9ab6"
      },
      "outputs": [
        {
          "output_type": "stream",
          "name": "stdout",
          "text": [
            "Collecting torchinfo\n",
            "  Downloading torchinfo-1.8.0-py3-none-any.whl (23 kB)\n",
            "Installing collected packages: torchinfo\n",
            "Successfully installed torchinfo-1.8.0\n"
          ]
        }
      ],
      "source": [
        "pip install torchinfo"
      ]
    },
    {
      "cell_type": "code",
      "execution_count": 3,
      "metadata": {
        "id": "JI_-6F1bGUB3"
      },
      "outputs": [],
      "source": [
        "# Import necessary libraries\n",
        "import torch\n",
        "import torch.nn as nn\n",
        "import torch.nn.functional as F\n",
        "import torch.optim as optim\n",
        "from torch.utils.data import DataLoader\n",
        "from torchvision import datasets, transforms\n",
        "\n",
        "from torchinfo import summary\n",
        "\n",
        "import matplotlib.pyplot as plt"
      ]
    },
    {
      "cell_type": "code",
      "source": [
        "batch_size = 10\n",
        "epochs = 30\n",
        "lr = 0.005\n",
        "momentum = 0.3"
      ],
      "metadata": {
        "id": "BhsUIx5eJfmm"
      },
      "execution_count": 71,
      "outputs": []
    },
    {
      "cell_type": "markdown",
      "metadata": {
        "id": "G3IlNKkkGUB3"
      },
      "source": [
        "## Load the Dataset"
      ]
    },
    {
      "cell_type": "code",
      "execution_count": 5,
      "metadata": {
        "colab": {
          "base_uri": "https://localhost:8080/"
        },
        "id": "gVv5awpLGUB3",
        "outputId": "490be45d-0a47-416b-c663-131634a571af"
      },
      "outputs": [
        {
          "output_type": "stream",
          "name": "stdout",
          "text": [
            "Downloading https://www.cs.toronto.edu/~kriz/cifar-10-python.tar.gz to ./data/cifar-10-python.tar.gz\n"
          ]
        },
        {
          "output_type": "stream",
          "name": "stderr",
          "text": [
            "100%|██████████| 170498071/170498071 [00:01<00:00, 97978254.03it/s]\n"
          ]
        },
        {
          "output_type": "stream",
          "name": "stdout",
          "text": [
            "Extracting ./data/cifar-10-python.tar.gz to ./data\n",
            "Files already downloaded and verified\n"
          ]
        }
      ],
      "source": [
        "# Load the CIFAR-10 dataset\n",
        "transform = transforms.Compose(\n",
        "    [transforms.ToTensor(),\n",
        "     transforms.Normalize((0.5, 0.5, 0.5), (0.5, 0.5, 0.5))])\n",
        "\n",
        "### BEGIN SOLUTION\n",
        "# batch_size = set_batch_size\n",
        "### END SOLUTION\n",
        "\n",
        "trainset = datasets.CIFAR10(root='./data', train=True, download=True, transform=transform)\n",
        "trainloader = DataLoader(trainset, batch_size=batch_size, shuffle=True, num_workers=2)\n",
        "\n",
        "testset = datasets.CIFAR10(root='./data', train=False, download=True, transform=transform)\n",
        "testloader = DataLoader(testset, batch_size=batch_size, shuffle=False, num_workers=2)"
      ]
    },
    {
      "cell_type": "markdown",
      "metadata": {
        "id": "mt_Mei5xGUB4"
      },
      "source": [
        "Let's look at some statistics on the training and test set."
      ]
    },
    {
      "cell_type": "code",
      "execution_count": 6,
      "metadata": {
        "colab": {
          "base_uri": "https://localhost:8080/"
        },
        "id": "KgZ-iwL_GUB4",
        "outputId": "51034281-0960-488b-9dd0-94f80f551c01"
      },
      "outputs": [
        {
          "output_type": "stream",
          "name": "stdout",
          "text": [
            "The size of the training set is 50000 images\n",
            "The size of the test set is 10000 images\n"
          ]
        }
      ],
      "source": [
        "print(f\"The size of the training set is {len(trainset)} images\")\n",
        "print(f\"The size of the test set is {len(testset)} images\")"
      ]
    },
    {
      "cell_type": "markdown",
      "metadata": {
        "id": "n5jwIqrEGUB4"
      },
      "source": [
        "Let's look at the loaders."
      ]
    },
    {
      "cell_type": "code",
      "execution_count": 7,
      "metadata": {
        "colab": {
          "base_uri": "https://localhost:8080/"
        },
        "id": "L1EzuY3_GUB4",
        "outputId": "a97dfc69-de1c-4463-a9f5-04d9e0733a06"
      },
      "outputs": [
        {
          "output_type": "stream",
          "name": "stdout",
          "text": [
            "The size of trainloader is  5000\n",
            "The size of testloader is  1000\n"
          ]
        }
      ],
      "source": [
        "print(\"The size of trainloader is \", len(trainloader))\n",
        "print(\"The size of testloader is \", len(testloader))"
      ]
    },
    {
      "cell_type": "markdown",
      "metadata": {
        "id": "r50wY9lvGUB4"
      },
      "source": [
        "### Question: Why is trainloader and testloader smaller than trainset and testset?"
      ]
    },
    {
      "cell_type": "markdown",
      "metadata": {
        "id": "VOb3FJHTGUB5"
      },
      "source": [
        "Trainloader and testloader are smaller because of batching. It makes the computation more efficient. It is determined by the batch_size parameter.\n",
        "\n",
        "\n"
      ]
    },
    {
      "cell_type": "markdown",
      "metadata": {
        "id": "jYfwf6nsGUB5"
      },
      "source": [
        "## Define the Model"
      ]
    },
    {
      "cell_type": "code",
      "execution_count": 61,
      "metadata": {
        "id": "tqTY1Ur-GUB5"
      },
      "outputs": [],
      "source": [
        "# Define the model architecture\n",
        "class Net(nn.Module):\n",
        "    def __init__(self):\n",
        "        \"\"\"Initialize the neural network layers we want to use in our model's\n",
        "        forward pass.\"\"\"\n",
        "        super(Net, self).__init__()\n",
        "\n",
        "        ### BEGIN SOLUTION\n",
        "        self.conv1 = nn.Conv2d(3, 6, 2)\n",
        "        self.pool = nn.MaxPool2d(2, 2)\n",
        "        self.fc1 = nn.Linear(6 * 15 * 15, 1000)\n",
        "        self.fca = nn.Linear(1000, 500)\n",
        "        self.fcb = nn.Linear(500,120)\n",
        "        self.fc2 = nn.Linear(120, 30)\n",
        "        self.fcc = nn.Linear(30, 10)    # we have to end with 10 outputs because we have 10 classes\n",
        "        ### END SOLUTION\n",
        "\n",
        "    def forward(self, x):\n",
        "        ### BEGIN SOLUTION\n",
        "        x = F.relu(self.conv1(x))\n",
        "        x = self.pool(x)\n",
        "        x = x.view(-1, 6 * 15 * 15)\n",
        "        x = F.relu(self.fc1(x))\n",
        "        x= self.fca(x)\n",
        "        x = F.relu(self.fcb(x))\n",
        "        x = self.fc2(x)\n",
        "        x = self.fcc(x)\n",
        "        ### END SOLUTION\n",
        "        return x"
      ]
    },
    {
      "cell_type": "code",
      "execution_count": 72,
      "metadata": {
        "colab": {
          "base_uri": "https://localhost:8080/"
        },
        "id": "H7IrjSkoGUB5",
        "outputId": "bbec4239-bbdb-45f0-bc1a-0eee77a3aa30"
      },
      "outputs": [
        {
          "output_type": "stream",
          "name": "stdout",
          "text": [
            "Net(\n",
            "  (conv1): Conv2d(3, 6, kernel_size=(2, 2), stride=(1, 1))\n",
            "  (pool): MaxPool2d(kernel_size=2, stride=2, padding=0, dilation=1, ceil_mode=False)\n",
            "  (fc1): Linear(in_features=1350, out_features=1000, bias=True)\n",
            "  (fca): Linear(in_features=1000, out_features=500, bias=True)\n",
            "  (fcb): Linear(in_features=500, out_features=120, bias=True)\n",
            "  (fc2): Linear(in_features=120, out_features=30, bias=True)\n",
            "  (fcc): Linear(in_features=30, out_features=10, bias=True)\n",
            ")\n",
            "==========================================================================================\n",
            "Layer (type:depth-idx)                   Output Shape              Param #\n",
            "==========================================================================================\n",
            "Net                                      [10, 10]                  --\n",
            "├─Conv2d: 1-1                            [10, 6, 31, 31]           78\n",
            "├─MaxPool2d: 1-2                         [10, 6, 15, 15]           --\n",
            "├─Linear: 1-3                            [10, 1000]                1,351,000\n",
            "├─Linear: 1-4                            [10, 500]                 500,500\n",
            "├─Linear: 1-5                            [10, 120]                 60,120\n",
            "├─Linear: 1-6                            [10, 30]                  3,630\n",
            "├─Linear: 1-7                            [10, 10]                  310\n",
            "==========================================================================================\n",
            "Total params: 1,915,638\n",
            "Trainable params: 1,915,638\n",
            "Non-trainable params: 0\n",
            "Total mult-adds (M): 19.91\n",
            "==========================================================================================\n",
            "Input size (MB): 0.12\n",
            "Forward/backward pass size (MB): 0.59\n",
            "Params size (MB): 7.66\n",
            "Estimated Total Size (MB): 8.38\n",
            "==========================================================================================\n"
          ]
        }
      ],
      "source": [
        "# Initialize the model\n",
        "net = Net()\n",
        "net=net.cuda()\n",
        "print(net)\n",
        "\n",
        "print(summary(net, input_size=(batch_size, 3, 32, 32)))\n"
      ]
    },
    {
      "cell_type": "code",
      "execution_count": 73,
      "metadata": {
        "id": "Xo46J99rGUB5"
      },
      "outputs": [],
      "source": [
        "# Define a Loss function and optimizer\n",
        "criterion = nn.CrossEntropyLoss()\n",
        "\n",
        "### BEGIN SOLUTION\n",
        "optimizer = optim.SGD(net.parameters(), lr=lr, momentum=momentum)\n",
        "#optimizer = optim.Adam(net.parameters(),lr)\n",
        "### END SOLUTION"
      ]
    },
    {
      "cell_type": "markdown",
      "metadata": {
        "id": "3jPyQCvCGUB5"
      },
      "source": [
        "## Train the Model"
      ]
    },
    {
      "cell_type": "code",
      "execution_count": 74,
      "metadata": {
        "colab": {
          "base_uri": "https://localhost:8080/"
        },
        "id": "FYZt1JHHGUB5",
        "outputId": "2f96c390-6e2e-4bf1-d7e9-667a519dee8d"
      },
      "outputs": [
        {
          "output_type": "stream",
          "name": "stdout",
          "text": [
            "[1,   500] loss: 2.301\n",
            "[1,  1000] loss: 2.282\n",
            "[1,  1500] loss: 2.220\n",
            "[1,  2000] loss: 2.119\n",
            "[1,  2500] loss: 2.031\n",
            "[1,  3000] loss: 1.971\n",
            "[1,  3500] loss: 1.952\n",
            "[1,  4000] loss: 1.891\n",
            "[1,  4500] loss: 1.858\n",
            "[1,  5000] loss: 1.810\n",
            "Epoch 1 took 27.76287817955017 seconds\n",
            "[2,   500] loss: 1.749\n",
            "[2,  1000] loss: 1.692\n",
            "[2,  1500] loss: 1.680\n",
            "[2,  2000] loss: 1.617\n",
            "[2,  2500] loss: 1.604\n",
            "[2,  3000] loss: 1.596\n",
            "[2,  3500] loss: 1.551\n",
            "[2,  4000] loss: 1.541\n",
            "[2,  4500] loss: 1.537\n",
            "[2,  5000] loss: 1.510\n",
            "Epoch 2 took 30.295987129211426 seconds\n",
            "[3,   500] loss: 1.479\n",
            "[3,  1000] loss: 1.450\n",
            "[3,  1500] loss: 1.445\n",
            "[3,  2000] loss: 1.405\n",
            "[3,  2500] loss: 1.422\n",
            "[3,  3000] loss: 1.433\n",
            "[3,  3500] loss: 1.370\n",
            "[3,  4000] loss: 1.378\n",
            "[3,  4500] loss: 1.409\n",
            "[3,  5000] loss: 1.373\n",
            "Epoch 3 took 30.1856369972229 seconds\n",
            "[4,   500] loss: 1.308\n",
            "[4,  1000] loss: 1.309\n",
            "[4,  1500] loss: 1.294\n",
            "[4,  2000] loss: 1.330\n",
            "[4,  2500] loss: 1.298\n",
            "[4,  3000] loss: 1.281\n",
            "[4,  3500] loss: 1.280\n",
            "[4,  4000] loss: 1.272\n",
            "[4,  4500] loss: 1.272\n",
            "[4,  5000] loss: 1.250\n",
            "Epoch 4 took 28.84611678123474 seconds\n",
            "[5,   500] loss: 1.206\n",
            "[5,  1000] loss: 1.197\n",
            "[5,  1500] loss: 1.186\n",
            "[5,  2000] loss: 1.163\n",
            "[5,  2500] loss: 1.161\n",
            "[5,  3000] loss: 1.166\n",
            "[5,  3500] loss: 1.152\n",
            "[5,  4000] loss: 1.155\n",
            "[5,  4500] loss: 1.158\n",
            "[5,  5000] loss: 1.154\n",
            "Epoch 5 took 28.440139293670654 seconds\n",
            "[6,   500] loss: 1.058\n",
            "[6,  1000] loss: 1.027\n",
            "[6,  1500] loss: 1.078\n",
            "[6,  2000] loss: 1.067\n",
            "[6,  2500] loss: 1.058\n",
            "[6,  3000] loss: 1.046\n",
            "[6,  3500] loss: 1.042\n",
            "[6,  4000] loss: 1.068\n",
            "[6,  4500] loss: 1.075\n",
            "[6,  5000] loss: 1.062\n",
            "Epoch 6 took 29.04055619239807 seconds\n",
            "[7,   500] loss: 0.932\n",
            "[7,  1000] loss: 0.950\n",
            "[7,  1500] loss: 0.941\n",
            "[7,  2000] loss: 0.964\n",
            "[7,  2500] loss: 0.952\n",
            "[7,  3000] loss: 0.945\n",
            "[7,  3500] loss: 0.948\n",
            "[7,  4000] loss: 0.948\n",
            "[7,  4500] loss: 0.956\n",
            "[7,  5000] loss: 0.958\n",
            "Epoch 7 took 27.982423067092896 seconds\n",
            "[8,   500] loss: 0.777\n",
            "[8,  1000] loss: 0.816\n",
            "[8,  1500] loss: 0.823\n",
            "[8,  2000] loss: 0.803\n",
            "[8,  2500] loss: 0.842\n",
            "[8,  3000] loss: 0.832\n",
            "[8,  3500] loss: 0.847\n",
            "[8,  4000] loss: 0.853\n",
            "[8,  4500] loss: 0.848\n",
            "[8,  5000] loss: 0.868\n",
            "Epoch 8 took 29.31631112098694 seconds\n",
            "[9,   500] loss: 0.650\n",
            "[9,  1000] loss: 0.678\n",
            "[9,  1500] loss: 0.713\n",
            "[9,  2000] loss: 0.714\n",
            "[9,  2500] loss: 0.717\n",
            "[9,  3000] loss: 0.725\n",
            "[9,  3500] loss: 0.718\n",
            "[9,  4000] loss: 0.731\n",
            "[9,  4500] loss: 0.735\n",
            "[9,  5000] loss: 0.740\n",
            "Epoch 9 took 29.37284207344055 seconds\n",
            "[10,   500] loss: 0.526\n",
            "[10,  1000] loss: 0.522\n",
            "[10,  1500] loss: 0.555\n",
            "[10,  2000] loss: 0.569\n",
            "[10,  2500] loss: 0.579\n",
            "[10,  3000] loss: 0.595\n",
            "[10,  3500] loss: 0.617\n",
            "[10,  4000] loss: 0.638\n",
            "[10,  4500] loss: 0.651\n",
            "[10,  5000] loss: 0.636\n",
            "Epoch 10 took 29.32591199874878 seconds\n",
            "[11,   500] loss: 0.419\n",
            "[11,  1000] loss: 0.407\n",
            "[11,  1500] loss: 0.439\n",
            "[11,  2000] loss: 0.449\n",
            "[11,  2500] loss: 0.444\n",
            "[11,  3000] loss: 0.503\n",
            "[11,  3500] loss: 0.498\n",
            "[11,  4000] loss: 0.483\n",
            "[11,  4500] loss: 0.528\n",
            "[11,  5000] loss: 0.526\n",
            "Epoch 11 took 29.216173887252808 seconds\n",
            "[12,   500] loss: 0.299\n",
            "[12,  1000] loss: 0.313\n",
            "[12,  1500] loss: 0.325\n",
            "[12,  2000] loss: 0.359\n",
            "[12,  2500] loss: 0.382\n",
            "[12,  3000] loss: 0.392\n",
            "[12,  3500] loss: 0.420\n",
            "[12,  4000] loss: 0.435\n",
            "[12,  4500] loss: 0.439\n",
            "[12,  5000] loss: 0.406\n",
            "Epoch 12 took 30.5363290309906 seconds\n",
            "[13,   500] loss: 0.217\n",
            "[13,  1000] loss: 0.226\n",
            "[13,  1500] loss: 0.259\n",
            "[13,  2000] loss: 0.282\n",
            "[13,  2500] loss: 0.298\n",
            "[13,  3000] loss: 0.325\n",
            "[13,  3500] loss: 0.336\n",
            "[13,  4000] loss: 0.332\n",
            "[13,  4500] loss: 0.357\n",
            "[13,  5000] loss: 0.353\n",
            "Epoch 13 took 29.433833360671997 seconds\n",
            "[14,   500] loss: 0.175\n",
            "[14,  1000] loss: 0.210\n",
            "[14,  1500] loss: 0.207\n",
            "[14,  2000] loss: 0.207\n",
            "[14,  2500] loss: 0.220\n",
            "[14,  3000] loss: 0.242\n",
            "[14,  3500] loss: 0.274\n",
            "[14,  4000] loss: 0.285\n",
            "[14,  4500] loss: 0.277\n",
            "[14,  5000] loss: 0.320\n",
            "Epoch 14 took 29.606860876083374 seconds\n",
            "[15,   500] loss: 0.155\n",
            "[15,  1000] loss: 0.153\n",
            "[15,  1500] loss: 0.173\n",
            "[15,  2000] loss: 0.155\n",
            "[15,  2500] loss: 0.193\n",
            "[15,  3000] loss: 0.195\n",
            "[15,  3500] loss: 0.243\n",
            "[15,  4000] loss: 0.219\n",
            "[15,  4500] loss: 0.243\n",
            "[15,  5000] loss: 0.257\n",
            "Epoch 15 took 29.23918652534485 seconds\n",
            "[16,   500] loss: 0.118\n",
            "[16,  1000] loss: 0.122\n",
            "[16,  1500] loss: 0.150\n",
            "[16,  2000] loss: 0.143\n",
            "[16,  2500] loss: 0.143\n",
            "[16,  3000] loss: 0.154\n",
            "[16,  3500] loss: 0.170\n",
            "[16,  4000] loss: 0.187\n",
            "[16,  4500] loss: 0.191\n",
            "[16,  5000] loss: 0.191\n",
            "Epoch 16 took 31.722559690475464 seconds\n",
            "[17,   500] loss: 0.105\n",
            "[17,  1000] loss: 0.103\n",
            "[17,  1500] loss: 0.103\n",
            "[17,  2000] loss: 0.104\n",
            "[17,  2500] loss: 0.127\n",
            "[17,  3000] loss: 0.142\n",
            "[17,  3500] loss: 0.148\n",
            "[17,  4000] loss: 0.147\n",
            "[17,  4500] loss: 0.164\n",
            "[17,  5000] loss: 0.148\n",
            "Epoch 17 took 29.004786491394043 seconds\n",
            "[18,   500] loss: 0.096\n",
            "[18,  1000] loss: 0.083\n",
            "[18,  1500] loss: 0.092\n",
            "[18,  2000] loss: 0.091\n",
            "[18,  2500] loss: 0.134\n",
            "[18,  3000] loss: 0.116\n",
            "[18,  3500] loss: 0.171\n",
            "[18,  4000] loss: 0.151\n",
            "[18,  4500] loss: 0.164\n",
            "[18,  5000] loss: 0.140\n",
            "Epoch 18 took 29.758077383041382 seconds\n",
            "[19,   500] loss: 0.076\n",
            "[19,  1000] loss: 0.081\n",
            "[19,  1500] loss: 0.087\n",
            "[19,  2000] loss: 0.076\n",
            "[19,  2500] loss: 0.085\n",
            "[19,  3000] loss: 0.088\n",
            "[19,  3500] loss: 0.091\n",
            "[19,  4000] loss: 0.131\n",
            "[19,  4500] loss: 0.117\n",
            "[19,  5000] loss: 0.141\n",
            "Epoch 19 took 28.73054575920105 seconds\n",
            "[20,   500] loss: 0.082\n",
            "[20,  1000] loss: 0.060\n",
            "[20,  1500] loss: 0.068\n",
            "[20,  2000] loss: 0.066\n",
            "[20,  2500] loss: 0.070\n",
            "[20,  3000] loss: 0.068\n",
            "[20,  3500] loss: 0.084\n",
            "[20,  4000] loss: 0.100\n",
            "[20,  4500] loss: 0.092\n",
            "[20,  5000] loss: 0.104\n",
            "Epoch 20 took 28.59382200241089 seconds\n",
            "[21,   500] loss: 0.063\n",
            "[21,  1000] loss: 0.068\n",
            "[21,  1500] loss: 0.085\n",
            "[21,  2000] loss: 0.061\n",
            "[21,  2500] loss: 0.079\n",
            "[21,  3000] loss: 0.065\n",
            "[21,  3500] loss: 0.078\n",
            "[21,  4000] loss: 0.082\n",
            "[21,  4500] loss: 0.090\n",
            "[21,  5000] loss: 0.098\n",
            "Epoch 21 took 29.986770629882812 seconds\n",
            "[22,   500] loss: 0.053\n",
            "[22,  1000] loss: 0.059\n",
            "[22,  1500] loss: 0.087\n",
            "[22,  2000] loss: 0.069\n",
            "[22,  2500] loss: 0.065\n",
            "[22,  3000] loss: 0.063\n",
            "[22,  3500] loss: 0.076\n",
            "[22,  4000] loss: 0.074\n",
            "[22,  4500] loss: 0.074\n",
            "[22,  5000] loss: 0.075\n",
            "Epoch 22 took 28.933677673339844 seconds\n",
            "[23,   500] loss: 0.052\n",
            "[23,  1000] loss: 0.034\n",
            "[23,  1500] loss: 0.051\n",
            "[23,  2000] loss: 0.046\n",
            "[23,  2500] loss: 0.051\n",
            "[23,  3000] loss: 0.056\n",
            "[23,  3500] loss: 0.066\n",
            "[23,  4000] loss: 0.082\n",
            "[23,  4500] loss: 0.085\n",
            "[23,  5000] loss: 0.086\n",
            "Epoch 23 took 28.65847635269165 seconds\n",
            "[24,   500] loss: 0.040\n",
            "[24,  1000] loss: 0.051\n",
            "[24,  1500] loss: 0.042\n",
            "[24,  2000] loss: 0.048\n",
            "[24,  2500] loss: 0.043\n",
            "[24,  3000] loss: 0.042\n",
            "[24,  3500] loss: 0.048\n",
            "[24,  4000] loss: 0.050\n",
            "[24,  4500] loss: 0.054\n",
            "[24,  5000] loss: 0.069\n",
            "Epoch 24 took 29.314477682113647 seconds\n",
            "[25,   500] loss: 0.039\n",
            "[25,  1000] loss: 0.034\n",
            "[25,  1500] loss: 0.033\n",
            "[25,  2000] loss: 0.049\n",
            "[25,  2500] loss: 0.043\n",
            "[25,  3000] loss: 0.049\n",
            "[25,  3500] loss: 0.038\n",
            "[25,  4000] loss: 0.055\n",
            "[25,  4500] loss: 0.053\n",
            "[25,  5000] loss: 0.052\n",
            "Epoch 25 took 27.61260223388672 seconds\n",
            "[26,   500] loss: 0.038\n",
            "[26,  1000] loss: 0.048\n",
            "[26,  1500] loss: 0.047\n",
            "[26,  2000] loss: 0.058\n",
            "[26,  2500] loss: 0.044\n",
            "[26,  3000] loss: 0.047\n",
            "[26,  3500] loss: 0.058\n",
            "[26,  4000] loss: 0.046\n",
            "[26,  4500] loss: 0.051\n",
            "[26,  5000] loss: 0.082\n",
            "Epoch 26 took 27.7802312374115 seconds\n",
            "[27,   500] loss: 0.043\n",
            "[27,  1000] loss: 0.045\n",
            "[27,  1500] loss: 0.061\n",
            "[27,  2000] loss: 0.045\n",
            "[27,  2500] loss: 0.048\n",
            "[27,  3000] loss: 0.056\n",
            "[27,  3500] loss: 0.073\n",
            "[27,  4000] loss: 0.055\n",
            "[27,  4500] loss: 0.069\n",
            "[27,  5000] loss: 0.059\n",
            "Epoch 27 took 28.54376196861267 seconds\n",
            "[28,   500] loss: 0.045\n",
            "[28,  1000] loss: 0.026\n",
            "[28,  1500] loss: 0.029\n",
            "[28,  2000] loss: 0.040\n",
            "[28,  2500] loss: 0.034\n",
            "[28,  3000] loss: 0.038\n",
            "[28,  3500] loss: 0.040\n",
            "[28,  4000] loss: 0.043\n",
            "[28,  4500] loss: 0.051\n",
            "[28,  5000] loss: 0.053\n",
            "Epoch 28 took 27.811066150665283 seconds\n",
            "[29,   500] loss: 0.032\n",
            "[29,  1000] loss: 0.030\n",
            "[29,  1500] loss: 0.026\n",
            "[29,  2000] loss: 0.030\n",
            "[29,  2500] loss: 0.033\n",
            "[29,  3000] loss: 0.024\n",
            "[29,  3500] loss: 0.034\n",
            "[29,  4000] loss: 0.037\n",
            "[29,  4500] loss: 0.028\n",
            "[29,  5000] loss: 0.053\n",
            "Epoch 29 took 27.833887577056885 seconds\n",
            "[30,   500] loss: 0.031\n",
            "[30,  1000] loss: 0.027\n",
            "[30,  1500] loss: 0.027\n",
            "[30,  2000] loss: 0.041\n",
            "[30,  2500] loss: 0.034\n",
            "[30,  3000] loss: 0.029\n",
            "[30,  3500] loss: 0.036\n",
            "[30,  4000] loss: 0.034\n",
            "[30,  4500] loss: 0.042\n",
            "[30,  5000] loss: 0.063\n",
            "Epoch 30 took 28.67355227470398 seconds\n",
            "Finished Training with training loss of  0.06328559346910378\n"
          ]
        }
      ],
      "source": [
        "import time\n",
        "\n",
        "# Initialize a list to hold the losses\n",
        "losses = []\n",
        "\n",
        "# Calculate number of batches to process to report 10 times per epoch\n",
        "len_trainloader = len(trainloader)\n",
        "report_every = len_trainloader // 10\n",
        "\n",
        "### BEGIN SOLUTION\n",
        "#epochs = 2\n",
        "### END SOLUTION\n",
        "\n",
        "# Train the network\n",
        "for epoch in range(epochs):  # loop over the dataset multiple times\n",
        "\n",
        "    start_time = time.time()\n",
        "\n",
        "    running_loss = 0.0\n",
        "\n",
        "    for i, data in enumerate(trainloader, 0):\n",
        "        # get the inputs; data is a list of [inputs, labels]\n",
        "        inputs, labels = data\n",
        "        if torch.cuda.is_available():\n",
        "            inputs, labels = inputs.cuda(), labels.cuda()\n",
        "\n",
        "        # zero the parameter gradients\n",
        "        optimizer.zero_grad()\n",
        "\n",
        "        # forward + backward + optimize\n",
        "        outputs = net(inputs)\n",
        "        loss = criterion(outputs, labels)\n",
        "        loss.backward()\n",
        "        optimizer.step()\n",
        "\n",
        "        # record the loss\n",
        "        # losses.append(loss.item())\n",
        "\n",
        "        # print statistics\n",
        "        running_loss += loss.item()\n",
        "        if i % report_every == report_every - 1:\n",
        "            print('[%d, %5d] loss: %.3f' % (epoch + 1, i + 1, running_loss / report_every))\n",
        "\n",
        "            losses.append(running_loss / report_every)\n",
        "            running_loss = 0.0\n",
        "\n",
        "    end_time = time.time()\n",
        "    print('Epoch {} took {} seconds'.format(epoch+1, end_time - start_time))\n",
        "\n",
        "print('Finished Training with training loss of ', losses[-1])"
      ]
    },
    {
      "cell_type": "code",
      "execution_count": 75,
      "metadata": {
        "colab": {
          "base_uri": "https://localhost:8080/",
          "height": 472
        },
        "id": "J7NvdYA5GUB6",
        "outputId": "ffa8a5b4-dc76-459b-b713-59d5a3827335"
      },
      "outputs": [
        {
          "output_type": "display_data",
          "data": {
            "text/plain": [
              "<Figure size 640x480 with 1 Axes>"
            ],
            "image/png": "[encoded data removed]"
          },
          "metadata": {}
        }
      ],
      "source": [
        "# Plot the training loss\n",
        "plt.plot(losses)\n",
        "plt.title('Training Loss')\n",
        "plt.xlabel('Batch # / 2000')\n",
        "plt.ylabel('Loss')\n",
        "plt.show()"
      ]
    },
    {
      "cell_type": "code",
      "execution_count": 76,
      "metadata": {
        "colab": {
          "base_uri": "https://localhost:8080/"
        },
        "id": "FicEcB58GUB6",
        "outputId": "cbeed915-4c22-4c08-a7b0-6674802c788b"
      },
      "outputs": [
        {
          "output_type": "stream",
          "name": "stdout",
          "text": [
            "Accuracy of the network on the training images: 97 %\n",
            "Average training loss: 0.069\n"
          ]
        }
      ],
      "source": [
        "# Evaluate accuracy on the training data\n",
        "correct = 0\n",
        "total = 0\n",
        "train_loss = 0\n",
        "\n",
        "with torch.no_grad():\n",
        "    for data in trainloader:\n",
        "        images, labels = data\n",
        "        if torch.cuda.is_available():\n",
        "            images, labels = images.cuda(), labels.cuda()\n",
        "\n",
        "        outputs = net(images)\n",
        "\n",
        "        loss = criterion(outputs, labels)\n",
        "        train_loss += loss.item()\n",
        "\n",
        "        _, predicted = torch.max(outputs.data, 1)\n",
        "        total += labels.size(0)\n",
        "        correct += (predicted == labels).sum().item()\n",
        "\n",
        "accuracy = correct / total * 100\n",
        "\n",
        "# Calculate average test loss\n",
        "avg_train_loss = train_loss / len(trainloader)\n",
        "\n",
        "print('Accuracy of the network on the training images: %d %%' % (accuracy))\n",
        "print('Average training loss: %.3f' % (avg_train_loss))"
      ]
    },
    {
      "cell_type": "markdown",
      "metadata": {
        "id": "s8DDPbBFGUB6"
      },
      "source": [
        "## Evaluate the Model"
      ]
    },
    {
      "cell_type": "code",
      "execution_count": 68,
      "metadata": {
        "id": "bk4e_9yxGUB6"
      },
      "outputs": [],
      "source": [
        "# We'll set the baseline accuracy we want for this exercise.\n",
        "baseline_accuracy = 60.0"
      ]
    },
    {
      "cell_type": "code",
      "execution_count": 77,
      "metadata": {
        "colab": {
          "base_uri": "https://localhost:8080/"
        },
        "id": "ic8csZCxGUB6",
        "outputId": "dab8763f-e57f-4bbe-8c63-c7f6ca2be2a3"
      },
      "outputs": [
        {
          "output_type": "stream",
          "name": "stdout",
          "text": [
            "Accuracy of the network on the 10000 test images: 60 %\n",
            "Average test loss: 3.526\n"
          ]
        }
      ],
      "source": [
        "# Evaluate the network on the test data\n",
        "correct = 0\n",
        "total = 0\n",
        "test_loss = 0\n",
        "\n",
        "with torch.no_grad():\n",
        "    for data in testloader:\n",
        "        images, labels = data\n",
        "        if torch.cuda.is_available():\n",
        "            images, labels = images.cuda(), labels.cuda()\n",
        "        outputs = net(images)\n",
        "\n",
        "        loss = criterion(outputs, labels)\n",
        "        test_loss += loss.item()\n",
        "\n",
        "        _, predicted = torch.max(outputs.data, 1)\n",
        "        total += labels.size(0)\n",
        "        correct += (predicted == labels).sum().item()\n",
        "\n",
        "accuracy = correct / total * 100\n",
        "\n",
        "# Calculate average test loss\n",
        "avg_test_loss = test_loss / len(testloader)\n",
        "\n",
        "print('Accuracy of the network on the 10000 test images: %d %%' % (accuracy))\n",
        "print('Average test loss: %.3f' % (avg_test_loss))"
      ]
    },
    {
      "cell_type": "markdown",
      "metadata": {
        "id": "yd4qrJzGGUB6"
      },
      "source": [
        "### Let's see how you did"
      ]
    },
    {
      "cell_type": "code",
      "execution_count": 78,
      "metadata": {
        "colab": {
          "base_uri": "https://localhost:8080/"
        },
        "id": "zkTLjZkpGUB6",
        "outputId": "12f03db5-3d82-4f63-efbf-70c403ba39fc"
      },
      "outputs": [
        {
          "output_type": "stream",
          "name": "stdout",
          "text": [
            "And did you beat the baseline accuracy of  60.0 ?\n",
            "Yes!!! You beat the baseline accuracy!\n"
          ]
        }
      ],
      "source": [
        "print('And did you beat the baseline accuracy of ', baseline_accuracy, '?')\n",
        "\n",
        "if accuracy > baseline_accuracy:\n",
        "    print('Yes!!! You beat the baseline accuracy!')\n",
        "else:\n",
        "    print('Awww! Try again! You can do it!')\n",
        "\n",
        "# We put an assert here to raise an error if the accuracy is not greater than the baseline accuracy\n",
        "assert accuracy > baseline_accuracy, 'Accuracy did not beat baseline accuracy of {}'.format(baseline_accuracy)"
      ]
    },
    {
      "cell_type": "markdown",
      "metadata": {
        "id": "TOQe1iWPGUB7"
      },
      "source": [
        "## Model Evaluation Questions"
      ]
    },
    {
      "cell_type": "code",
      "source": [],
      "metadata": {
        "id": "kWk5uNm6U0Fw"
      },
      "execution_count": null,
      "outputs": []
    },
    {
      "cell_type": "markdown",
      "metadata": {
        "id": "1gIaFcy1GUB7"
      },
      "source": [
        "### Question: What was the accuracy of the model as initially defined in the assginment?"
      ]
    },
    {
      "cell_type": "markdown",
      "metadata": {
        "id": "aL9YSY_fGUB7"
      },
      "source": [
        "I think 19% or lower. I forgot to run the code first but I edited some of the parameters initially. It definitely was not great."
      ]
    },
    {
      "cell_type": "markdown",
      "metadata": {
        "id": "ePY1_PmlGUB7"
      },
      "source": [
        "### Question: Try running the same model and training hyperparameters multiple times. Does the loss curve and final accuracy differ between runs? Why?"
      ]
    },
    {
      "cell_type": "markdown",
      "metadata": {
        "id": "BoUZGWRbGUB7"
      },
      "source": [
        "NN starts at a random location so local minimums might be different for each run. As a result, the loss curve and final accuracy might be different between runs."
      ]
    },
    {
      "cell_type": "markdown",
      "metadata": {
        "id": "tjfygsT5GUB7"
      },
      "source": [
        "## Record Your Experiments Here"
      ]
    },
    {
      "cell_type": "markdown",
      "metadata": {
        "id": "li0aZks5GUB7"
      },
      "source": [
        "It is helpful if you track your experiments so you can see what you changed and how it impacted accuracy."
      ]
    },
    {
      "cell_type": "code",
      "source": [],
      "metadata": {
        "id": "BESrdRXdOkWt"
      },
      "execution_count": null,
      "outputs": []
    },
    {
      "cell_type": "markdown",
      "metadata": {
        "id": "zC2I_ZJ-GUB7"
      },
      "source": [
        "### Experiment Template (Copy and Edit)\n",
        "\n",
        "**Model Definition:**\n",
        "```python\n",
        "<model definition here if changed>\n",
        "```\n",
        "\n",
        "**Hyperparameters:**\n",
        "```python\n",
        "batch size: 10\n",
        "epochs: 30\n",
        "optimizer: SDG\n",
        "learning rate:0.005\n",
        "momentum:0.3\n",
        "```\n",
        "Training Loss:   <br>\n",
        "Training Accuracy: <br>\n",
        "\n",
        "Test Loss:    <br>\n",
        "**Test Accuracy: nn%**"
      ]
    },
    {
      "cell_type": "markdown",
      "metadata": {
        "id": "soU7LDglGUB7"
      },
      "source": []
    }
  ],
  "metadata": {
    "kernelspec": {
      "display_name": "Python 3",
      "name": "python3"
    },
    "language_info": {
      "codemirror_mode": {
        "name": "ipython",
        "version": 3
      },
      "file_extension": ".py",
      "mimetype": "text/x-python",
      "name": "python",
      "nbconvert_exporter": "python",
      "pygments_lexer": "ipython3",
      "version": "3.11.5"
    },
    "colab": {
      "provenance": [],
      "gpuType": "V100"
    },
    "accelerator": "GPU"
  },
  "nbformat": 4,
  "nbformat_minor": 0
}